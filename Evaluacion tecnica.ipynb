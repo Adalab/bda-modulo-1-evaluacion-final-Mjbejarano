{
 "cells": [
  {
   "cell_type": "markdown",
   "metadata": {},
   "source": [
    "Eercicio numero 1. `inventario` (lista de diccionarios): Una estructura para almacenar los productos en el inventario. Cada producto debe ser representado como un diccionario con las siguientes claves: `'nombre'`, `'precio'`, y `'cantidad'`. Al principio deberá ser una lista vacía. Ejemplo de como debería ser:\n",
    " ```python\n",
    " [{'nombre': 'Camisa', 'precio': 20, 'cantidad': 40},\n",
    " {'nombre': 'Pantalón', 'precio': 30, 'cantidad': 30}]\n"
   ]
  },
  {
   "cell_type": "code",
   "execution_count": 109,
   "metadata": {},
   "outputs": [],
   "source": [
    "inventario= []\n",
    "\n",
    "def almacenar_productos(nombre, precio, cantidad):\n",
    "        nuevo_producto= {'nombre': nombre, 'precio':precio, 'cantidad': cantidad}\n",
    "\n",
    "        inventario.append(nuevo_producto)\n",
    "                    "
   ]
  },
  {
   "cell_type": "code",
   "execution_count": 110,
   "metadata": {},
   "outputs": [],
   "source": [
    "almacenar_productos('camisa','20','40')\n",
    "almacenar_productos('pantalon','30','30')"
   ]
  },
  {
   "cell_type": "code",
   "execution_count": 111,
   "metadata": {},
   "outputs": [
    {
     "data": {
      "text/plain": [
       "[{'nombre': 'camisa', 'precio': '20', 'cantidad': '40'},\n",
       " {'nombre': 'pantalon', 'precio': '30', 'cantidad': '30'}]"
      ]
     },
     "execution_count": 111,
     "metadata": {},
     "output_type": "execute_result"
    }
   ],
   "source": [
    "inventario "
   ]
  },
  {
   "cell_type": "markdown",
   "metadata": {},
   "source": [
    "Ejercicio numero 2. `clientes` (diccionario): Una estructura para llevar un registro de los clientes de la tienda. Cada cliente debe ser representado como un diccionario con las siguientes claves: `'nombre'` y `'email'`.\n",
    " Al inicio deberá ser un diccionario vacío. Además, cada cliente debe tener un historial de compras. Deberá parecerse a:\n",
    " ```python\n",
    " {'Cliente1': {'email': 'cliente1@email.com', 'compras': []},\n",
    " 'Cliente2': {'email': 'cliente2@email.com', 'compras': []}}\n"
   ]
  },
  {
   "cell_type": "markdown",
   "metadata": {},
   "source": [
    "def agregar_cliente(clientes, nombre, email):\n",
    "    if nombre in clientes:\n",
    "        print(f\"El cliente {nombre} ya está registrado.\")\n",
    "    else:\n",
    "        clientes[nombre] = {'email': email, 'compras': []}\n",
    "        print(f\"Cliente {nombre} agregado correctamente.\")\n"
   ]
  },
  {
   "cell_type": "markdown",
   "metadata": {},
   "source": [
    "clientes={}\n",
    "\n",
    "def cliente(nombre, email, compras):\n",
    "    if cliente in clientes:\n",
    "        print('El cliente ya esta registrado y se va a actualizar sus compras')\n",
    "    else:\n",
    "       nuevo_cliente= {'nombre': nombre, 'email': email, 'compras':compras}\n",
    "       clientes.append(nuevo_cliente)\n"
   ]
  },
  {
   "cell_type": "code",
   "execution_count": 112,
   "metadata": {},
   "outputs": [],
   "source": [
    "clientes={}\n",
    "\n",
    "def registro_clientes(nombre, email, compras):\n",
    "    if cliente in clientes:\n",
    "        print('El cliente ya esta registrado y se va a actualizar sus compras')\n",
    "    else:\n",
    "       nuevo_cliente= {'nombre': nombre, 'email': email, 'compras':compras}\n",
    "       print('Nuevo cliente registrado')"
   ]
  },
  {
   "cell_type": "code",
   "execution_count": 113,
   "metadata": {},
   "outputs": [
    {
     "name": "stdout",
     "output_type": "stream",
     "text": [
      "Nuevo cliente registrado\n",
      "Nuevo cliente registrado\n",
      "Nuevo cliente registrado\n"
     ]
    }
   ],
   "source": [
    "registro_clientes('Cliente1', 'cliente1@email.com', '67')\n",
    "registro_clientes('Cliente2', 'cliente2@email.com','8')\n",
    "registro_clientes('Cliente1', 'cliente1@email.com', '9')"
   ]
  },
  {
   "cell_type": "code",
   "execution_count": 114,
   "metadata": {},
   "outputs": [
    {
     "data": {
      "text/plain": [
       "{}"
      ]
     },
     "execution_count": 114,
     "metadata": {},
     "output_type": "execute_result"
    }
   ],
   "source": [
    "clientes"
   ]
  },
  {
   "cell_type": "code",
   "execution_count": 115,
   "metadata": {},
   "outputs": [
    {
     "name": "stdout",
     "output_type": "stream",
     "text": [
      "Nuevo cliente registrado\n"
     ]
    }
   ],
   "source": [
    "registro_clientes('Cliente1', 'cliente1@email.com', '9')"
   ]
  },
  {
   "cell_type": "code",
   "execution_count": 116,
   "metadata": {},
   "outputs": [
    {
     "data": {
      "text/plain": [
       "{}"
      ]
     },
     "execution_count": 116,
     "metadata": {},
     "output_type": "execute_result"
    }
   ],
   "source": [
    "clientes "
   ]
  },
  {
   "cell_type": "markdown",
   "metadata": {},
   "source": [
    "Ejercicio numero: 3: `ventas_totales` (float): Una variable para llevar un registro de las ventas totales de la tienda. Inicializalo con valor 0."
   ]
  },
  {
   "cell_type": "code",
   "execution_count": 117,
   "metadata": {},
   "outputs": [],
   "source": [
    "ventas_totales= 0\n",
    "def ventas (cuantia):\n",
    "    global ventas_totales\n",
    "    cuantia=float(cuantia)\n",
    "    ventas_totales+= cuantia \n",
    "    return ventas_totales \n",
    "\n",
    "    "
   ]
  },
  {
   "cell_type": "code",
   "execution_count": 118,
   "metadata": {},
   "outputs": [
    {
     "data": {
      "text/plain": [
       "27.0"
      ]
     },
     "execution_count": 118,
     "metadata": {},
     "output_type": "execute_result"
    }
   ],
   "source": [
    "ventas (5)\n",
    "ventas(8)\n",
    "ventas(10)\n",
    "ventas(4)"
   ]
  },
  {
   "cell_type": "code",
   "execution_count": 119,
   "metadata": {},
   "outputs": [
    {
     "data": {
      "text/plain": [
       "27.0"
      ]
     },
     "execution_count": 119,
     "metadata": {},
     "output_type": "execute_result"
    }
   ],
   "source": [
    "ventas_totales"
   ]
  },
  {
   "cell_type": "markdown",
   "metadata": {},
   "source": [
    " . `agregar_producto(nombre, precio, cantidad)`: Esta función agrega un producto al inventario o actualiza su cantidad si ya existe. Debe recibir el nombre, precio y cantidad del producto como parámetros. \n",
    " - Itera a través del inventario y compara los nombres de los productos\n",
    "con el nombre proporcionado.\n",
    " - Si el producto ya existe, actualiza la cantidad.\n",
    " - Si no existe, agrega un nuevo producto al inventario.\n"
   ]
  },
  {
   "cell_type": "code",
   "execution_count": 1,
   "metadata": {},
   "outputs": [],
   "source": [
    "inventario=[]\n",
    "def agregar_productos(nombre, precio, cantidad):\n",
    "    for producto in inventario:\n",
    "        if producto['nombre']== nombre:\n",
    "            print('El producto ya existe, vamos a actualizar su cantidad')\n",
    "            producto['precio']= precio \n",
    "\n",
    "            producto['cantidad'] += cantidad\n",
    "    \n",
    "            break\n",
    "    else: \n",
    "            nuevo_producto={'nombre':nombre, 'precio':precio,'cantidad':cantidad}\n",
    "            inventario.append(nuevo_producto)\n",
    "            print ('EL producto ha sido agregado')\n"
   ]
  },
  {
   "cell_type": "code",
   "execution_count": 2,
   "metadata": {},
   "outputs": [
    {
     "name": "stdout",
     "output_type": "stream",
     "text": [
      "EL producto ha sido agregado\n",
      "EL producto ha sido agregado\n",
      "El producto ya existe, vamos a actualizar su cantidad\n"
     ]
    }
   ],
   "source": [
    "agregar_productos('taza', 5, 30)\n",
    "agregar_productos('plato', 10, 20)\n",
    "agregar_productos('taza', 5, 5)"
   ]
  },
  {
   "cell_type": "code",
   "execution_count": 3,
   "metadata": {},
   "outputs": [
    {
     "data": {
      "text/plain": [
       "[{'nombre': 'taza', 'precio': 5, 'cantidad': 35},\n",
       " {'nombre': 'plato', 'precio': 10, 'cantidad': 20}]"
      ]
     },
     "execution_count": 3,
     "metadata": {},
     "output_type": "execute_result"
    }
   ],
   "source": [
    "inventario "
   ]
  },
  {
   "cell_type": "markdown",
   "metadata": {},
   "source": [
    "Ejercicio numero 2. `ver_inventario()`: Muestra el inventario de productos con sus detalles.\n",
    " - Utiliza un bucle `for` para recorrer el inventario.\n",
    " - Imprime los detalles (nombre, precio, cantidad) de cada producto.\n",
    " - Debería verse:\n",
    " ```python\n",
    " Nombre: Camisa, Precio: $20, Cantidad: 50\n",
    " Nombre: Pantalón, Precio: $30, Cantidad: 30\n",
    " Nombre: Zapatos, Precio: $50, Cantidad: 40\n",
    " Nombre: Camisa, Precio: $20, Cantidad: 50"
   ]
  },
  {
   "cell_type": "code",
   "execution_count": 14,
   "metadata": {},
   "outputs": [],
   "source": [
    "inventario= [{'nombre':'camisa','precio':'$20', 'cantidad':50}, {'nombre':'pantalon', 'precio':'$30','cantidad':30}, {'nombre':'zapatos','precio':'$50','cantidad':40}]\n",
    "def ver_inventario(nombre, precio, cantidad):\n",
    "    for producto in inventario:\n",
    "      if producto['nombre']==nombre:\n",
    "       print('los detalles del producto son: Nombre:', producto['nombre'], ', Precio:', producto['precio'], ', Cantidad:', producto['cantidad'])"
   ]
  },
  {
   "cell_type": "code",
   "execution_count": 15,
   "metadata": {},
   "outputs": [
    {
     "name": "stdout",
     "output_type": "stream",
     "text": [
      "los detalles del producto son: Nombre: camisa , Precio: $20 , Cantidad: 50\n",
      "los detalles del producto son: Nombre: pantalon , Precio: $30 , Cantidad: 30\n",
      "los detalles del producto son: Nombre: zapatos , Precio: $50 , Cantidad: 40\n",
      "los detalles del producto son: Nombre: camisa , Precio: $20 , Cantidad: 50\n"
     ]
    }
   ],
   "source": [
    "ver_inventario('camisa', '$20' ,50)\n",
    "ver_inventario('pantalon', '$30',30)\n",
    "ver_inventario('zapatos','$50',40)\n",
    "ver_inventario('camisa','$20',50)"
   ]
  },
  {
   "cell_type": "code",
   "execution_count": 13,
   "metadata": {},
   "outputs": [
    {
     "data": {
      "text/plain": [
       "[{'nombre': 'camisa', 'precio': '$20', 'cantidad': 50},\n",
       " {'nombre': 'pantalon', 'precio': '$30', 'cantidad': 30},\n",
       " {'nombre': 'zapatos', 'precio': '$50', 'cantidad': 40}]"
      ]
     },
     "execution_count": 13,
     "metadata": {},
     "output_type": "execute_result"
    }
   ],
   "source": [
    "inventario"
   ]
  },
  {
   "cell_type": "markdown",
   "metadata": {},
   "source": [
    "Ejercicio numero 3. `buscar_producto(nombre)`: Busca un producto en el inventario por nombre y muestra sus detalles si se encuentra. Debe recibir el nombre del producto como parámetro.\n",
    " - Utiliza un bucle `for` para recorrer el inventario.\n",
    " - Compara los nombres de los productos con el nombre proporcionado.\n",
    " - Si se encuentra el producto, imprime sus detalles.\n",
    " - Debe mostrar:\n",
    " ```python\n",
    " Nombre: Camisa, Precio: $20, Cantidad: 40\n"
   ]
  },
  {
   "cell_type": "code",
   "execution_count": 1,
   "metadata": {},
   "outputs": [],
   "source": [
    "inventario1=[{'nombre':'camisa', 'precio': '$20', 'cantidad':40},{'nombre':'pantalon', 'precio':'$30', 'cantidad':30}]\n",
    "def buscar_producto(nombre):\n",
    " for producto in inventario1:\n",
    "    if producto ['nombre']== nombre:\n",
    "     print('Los detalles del producto son: Nombre:', producto['nombre'], ', Precio:', producto['precio'], ', Cantidad:', producto['cantidad'])\n",
    " return "
   ]
  },
  {
   "cell_type": "code",
   "execution_count": 2,
   "metadata": {},
   "outputs": [
    {
     "name": "stdout",
     "output_type": "stream",
     "text": [
      "Los detalles del producto son: Nombre: camisa , Precio: $20 , Cantidad: 40\n",
      "Los detalles del producto son: Nombre: pantalon , Precio: $30 , Cantidad: 30\n"
     ]
    }
   ],
   "source": [
    "buscar_producto('camisa')\n",
    "buscar_producto('pantalon')"
   ]
  },
  {
   "cell_type": "code",
   "execution_count": 3,
   "metadata": {},
   "outputs": [
    {
     "data": {
      "text/plain": [
       "[{'nombre': 'camisa', 'precio': '$20', 'cantidad': 40},\n",
       " {'nombre': 'pantalon', 'precio': '$30', 'cantidad': 30}]"
      ]
     },
     "execution_count": 3,
     "metadata": {},
     "output_type": "execute_result"
    }
   ],
   "source": [
    "inventario1"
   ]
  },
  {
   "cell_type": "markdown",
   "metadata": {},
   "source": [
    " Ejercicio numero 4. `actualizar_stock(nombre, cantidad)`: Actualiza el stock de un producto en el inventario. Debe recibir el nombre del producto y la cantidad a agregar o quitar como parámetros.\n",
    " - Utiliza un bucle `for` para recorrer el inventario.\n",
    " - Busca el producto por nombre.\n",
    " - Actualiza la cantidad según la entrada del usuario.\n",
    " - Si el producto no esta en el inventario muestra un mensaje indicándolo. \n"
   ]
  },
  {
   "cell_type": "code",
   "execution_count": 24,
   "metadata": {},
   "outputs": [],
   "source": [
    "inventario_productos=[{'nombre':'camisa','cantidad':40}, {'nombre':'pantalon','cantidad':30}]\n",
    "\n",
    "def actualizar_stock(nombre, cantidad):\n",
    " \n",
    " for producto in inventario_productos:\n",
    "     if producto ['nombre']== nombre: \n",
    "            print('El producto esta en el inventario, vamos a actualizar su cantidad')\n",
    "            producto['cantidad'] += cantidad\n",
    "        \n",
    "            break\n",
    "     else:\n",
    "         print('El producto no se encuentra en el inventario')\n",
    "    "
   ]
  },
  {
   "cell_type": "code",
   "execution_count": 25,
   "metadata": {},
   "outputs": [
    {
     "name": "stdout",
     "output_type": "stream",
     "text": [
      "El producto esta en el inventario, vamos a actualizar su cantidad\n",
      "El producto no se encuentra en el inventario\n",
      "El producto no se encuentra en el inventario\n",
      "El producto no se encuentra en el inventario\n",
      "El producto esta en el inventario, vamos a actualizar su cantidad\n"
     ]
    }
   ],
   "source": [
    "actualizar_stock('camisa',50)\n",
    "actualizar_stock('vestido',20)\n",
    "actualizar_stock('pantalon',15)"
   ]
  },
  {
   "cell_type": "code",
   "execution_count": 26,
   "metadata": {},
   "outputs": [
    {
     "data": {
      "text/plain": [
       "[{'nombre': 'camisa', 'cantidad': 90}, {'nombre': 'pantalon', 'cantidad': 45}]"
      ]
     },
     "execution_count": 26,
     "metadata": {},
     "output_type": "execute_result"
    }
   ],
   "source": [
    "inventario_productos"
   ]
  },
  {
   "cell_type": "markdown",
   "metadata": {},
   "source": [
    " Ejercicio numero 5. `eliminar_producto(nombre)`: Elimina un producto del inventario por nombre. Debe recibir el nombre del producto como parámetro.\n",
    " - Utiliza un bucle `for` para recorrer el inventario.\n",
    " - Busca el producto por nombre.\n",
    " - Elimina el producto del inventario si existe.\n",
    " - Si el producto no esta en el inventario muestra un mensaje\n",
    "indicándolo. \n"
   ]
  },
  {
   "cell_type": "code",
   "execution_count": 27,
   "metadata": {},
   "outputs": [],
   "source": [
    "inventario= [{'nombre':'camisa','cantidad':50}, {'nombre':'pantalon','cantidad':30}]\n",
    "def eliminar_producto(nombre):\n",
    "    for producto in inventario:\n",
    "       if producto['nombre']==nombre:\n",
    "           inventario.remove(producto)\n",
    "           print('El producto ha sido eliminado')\n",
    "\n",
    "           break \n",
    "       else:\n",
    "        print('El producto no esta en el inventario')\n"
   ]
  },
  {
   "cell_type": "code",
   "execution_count": 28,
   "metadata": {},
   "outputs": [
    {
     "name": "stdout",
     "output_type": "stream",
     "text": [
      "El producto ha sido eliminado\n"
     ]
    }
   ],
   "source": [
    "eliminar_producto('camisa')\n"
   ]
  },
  {
   "cell_type": "code",
   "execution_count": 29,
   "metadata": {},
   "outputs": [
    {
     "name": "stdout",
     "output_type": "stream",
     "text": [
      "El producto no esta en el inventario\n"
     ]
    }
   ],
   "source": [
    "eliminar_producto('falda')"
   ]
  },
  {
   "cell_type": "code",
   "execution_count": 31,
   "metadata": {},
   "outputs": [
    {
     "data": {
      "text/plain": [
       "[{'nombre': 'pantalon', 'cantidad': 30}]"
      ]
     },
     "execution_count": 31,
     "metadata": {},
     "output_type": "execute_result"
    }
   ],
   "source": [
    "inventario"
   ]
  },
  {
   "cell_type": "markdown",
   "metadata": {},
   "source": [
    "Ejercicio numero 6. `calcular_valor_inventario()`: Calcula y muestra el valor total del inventario.\n",
    "\n",
    " - Utiliza un bucle for para calcular el valor total del inventario.\n",
    " - Itera a través del inventario y suma el valor de cada producto\n",
    "(precio x cantidad). Es decir, calcula el valor total del inventario.\n",
    "\n",
    "Ejemplo:\n",
    " ```python\n",
    " # si tenemos 5 camisas que valen 5 euros \n",
    " # y 10 calcetines que valen 1 euro\n",
    " # este método te tiene que devolver: 35 euros\n",
    " valor_camisas = 5 * 5\n",
    " valor_calcetines = 10 * 1\n",
    " valor_camisas + valor_calcetines = 35\n"
   ]
  },
  {
   "cell_type": "markdown",
   "metadata": {},
   "source": [
    "inventario = [\n",
    "    {'nombre': 'camisas', 'precio': 5, 'cantidad': 5},\n",
    "    {'nombre': 'calcetines', 'precio': 1, 'cantidad': 10}\n",
    "]\n",
    "\n",
    "def calcular_valor_inventario():\n",
    "    valor_total = 0  # Inicializamos el valor total en 0\n",
    "    \n",
    "    for producto in inventario:\n",
    "        valor_producto = producto['precio'] * producto['cantidad']  # Calculamos el valor de cada producto\n",
    "        valor_total += valor_producto  # Sumamos el valor del producto al total\n",
    "    \n",
    "    print(f\"El valor total del inventario es: {valor_total} euros\")\n",
    "    return valor_total"
   ]
  },
  {
   "cell_type": "code",
   "execution_count": 310,
   "metadata": {},
   "outputs": [],
   "source": [
    "inventario=[{'nombre':'camisas','precio':5,'cantidad':5},{'nombre':'calcetines','precio': 1,'cantidad':10}]\n",
    "          \n",
    "def calcular_valor_inventario():\n",
    "     \n",
    "     valor_total= 0\n",
    "       \n",
    "     for producto in  inventario:\n",
    "        valor_producto = producto['precio']* producto['cantidad']\n",
    "        valor_total += valor_producto\n",
    "     print('El valor total es',valor_total)\n",
    "     return valor_total"
   ]
  },
  {
   "cell_type": "code",
   "execution_count": 311,
   "metadata": {},
   "outputs": [
    {
     "name": "stdout",
     "output_type": "stream",
     "text": [
      "El valor total es 35\n"
     ]
    },
    {
     "data": {
      "text/plain": [
       "35"
      ]
     },
     "execution_count": 311,
     "metadata": {},
     "output_type": "execute_result"
    }
   ],
   "source": [
    "calcular_valor_inventario()"
   ]
  },
  {
   "cell_type": "code",
   "execution_count": 280,
   "metadata": {},
   "outputs": [
    {
     "data": {
      "text/plain": [
       "[{'nombre': 'camisas', 'precio': 5, 'cantidad': 5},\n",
       " {'nombre': 'calcetines', 'precio': '1', 'cantidad': 10}]"
      ]
     },
     "execution_count": 280,
     "metadata": {},
     "output_type": "execute_result"
    }
   ],
   "source": [
    "inventario"
   ]
  },
  {
   "cell_type": "markdown",
   "metadata": {},
   "source": [
    " Ejercicio numero 7. `realizar_compra()`: Permite a un cliente realizar una compra seleccionando productos del inventario. Debe interactuar con el cliente para seleccionar productos y calcular el costo total de la compra.\n",
    " - Utiliza un bucle `while` para permitir al cliente realizar múltiples compras.\n",
    " - Muestra el inventario y solicita al cliente ingresar el nombre del producto que desea comprar.\n",
    " - Registra los productos seleccionados en un carrito y actualiza el inventario.\n",
    "\n",
    " - Calcula el costo total de la compra."
   ]
  },
  {
   "cell_type": "markdown",
   "metadata": {},
   "source": [
    "# Definimos el inventario con nombre, precio y cantidad de cada producto\n",
    "inventario = [\n",
    "    {'nombre': 'platano', 'precio': 1, 'cantidad': 10},\n",
    "    {'nombre': 'fresas', 'precio': 2, 'cantidad': 5},\n",
    "    {'nombre': 'arroz', 'precio': 1, 'cantidad': 20},\n",
    "    {'nombre': 'pimientos', 'precio': 3, 'cantidad': 8}\n",
    "]\n",
    "\n",
    "def realizar_compra():\n",
    "    carrito = []\n",
    "    total_compra = 0\n",
    "    \n",
    "    while True:\n",
    "        print(\"Productos disponibles:\")\n",
    "        for producto in inventario:\n",
    "            print(f\"Nombre: {producto['nombre']}, Precio: ${producto['precio']}, Cantidad: {producto['cantidad']}\")\n",
    "        \n",
    "        compra = input('Introduce el nombre del producto que deseas comprar (o \"salir\" para finalizar): ').lower()\n",
    "        \n",
    "        if compra == 'salir':\n",
    "            break\n",
    "        \n",
    "        for producto in inventario:\n",
    "            if producto['nombre'] == compra:\n",
    "                cantidad_deseada = int(input(f\"¿Cuántas unidades de {compra} deseas comprar? \"))\n",
    "                \n",
    "                # Verificar si hay suficientes existencias\n",
    "                if producto['cantidad'] >= cantidad_deseada:\n",
    "                    # Agregar el producto al carrito\n",
    "                    carrito.append({'nombre': compra, 'precio': producto['precio'], 'cantidad': cantidad_deseada})\n",
    "                    \n",
    "                    # Actualizar el inventario\n",
    "                    producto['cantidad'] -= cantidad_deseada\n",
    "                    \n",
    "                    # Mostrar confirmación\n",
    "                    print(f\"Has agregado {cantidad_deseada} {compra}(s) al carrito.\")\n",
    "                else:\n",
    "                    print(f\"Lo sentimos, solo tenemos {producto['cantidad']} {compra}(s) disponibles.\")\n",
    "                break\n",
    "        else:\n",
    "            print(f\"El producto {compra} no está disponible en el inventario.\")\n",
    "    \n",
    "    # Calcular el total de la compra\n",
    "    for item in carrito:\n",
    "        total_compra += item['precio'] * item['cantidad']\n",
    "    \n",
    "    # Mostrar el carrito y el total de la compra\n",
    "    print(\"\\nResumen de tu compra:\")\n",
    "    for item in carrito:\n",
    "        print(f\"{item['cantidad']} x {item['nombre']} = ${item['precio'] * item['cantidad']}\")\n",
    "    \n",
    "    print(f\"El total de tu compra es: ${total_compra}\")\n",
    "\n",
    "# Llamar a la función para realizar una compra\n",
    "realizar_compra()\n"
   ]
  },
  {
   "cell_type": "code",
   "execution_count": 1,
   "metadata": {},
   "outputs": [
    {
     "name": "stdout",
     "output_type": "stream",
     "text": [
      "Productos disponibles:\n",
      "Nombre: platano, Precio: $1, Cantidad: 10\n",
      "Nombre: fresas, Precio: $2, Cantidad: 5\n",
      "Nombre: arroz, Precio: $1, Cantidad: 20\n",
      "Nombre: pimientos, Precio: $3, Cantidad: 8\n",
      "Has agregado 2 platano(s) al carrito.\n",
      "Productos disponibles:\n",
      "Nombre: platano, Precio: $1, Cantidad: 8\n",
      "Nombre: fresas, Precio: $2, Cantidad: 5\n",
      "Nombre: arroz, Precio: $1, Cantidad: 20\n",
      "Nombre: pimientos, Precio: $3, Cantidad: 8\n",
      "\n",
      "Resumen de tu compra:\n",
      "2 x platano = $2\n",
      "El total de tu compra es: $2\n"
     ]
    }
   ],
   "source": [
    "\n",
    "inventario = [{'nombre': 'platano', 'precio': 1, 'cantidad': 10},{'nombre': 'fresas', 'precio': 2, 'cantidad': 5}, {'nombre': 'arroz', 'precio': 1, 'cantidad': 20},{'nombre': 'pimientos', 'precio': 3, 'cantidad': 8}\n",
    "]\n",
    "\n",
    "def realizar_compra():\n",
    "    carrito = []\n",
    "    total_compra = 0\n",
    "    \n",
    "    while True:\n",
    "        print(\"Productos disponibles:\")\n",
    "        for producto in inventario:\n",
    "            print(f\"Nombre: {producto['nombre']}, Precio: ${producto['precio']}, Cantidad: {producto['cantidad']}\")\n",
    "        \n",
    "        compra = input('Introduce el nombre del producto que deseas comprar (o \"salir\" para finalizar): ').lower()\n",
    "        \n",
    "        if compra == 'salir':\n",
    "            break\n",
    "        \n",
    "        for producto in inventario:\n",
    "            if producto['nombre'] == compra:\n",
    "                cantidad_deseada = int(input(f\"¿Cuántas unidades de {compra} deseas comprar? \"))\n",
    "                if producto['cantidad'] >= cantidad_deseada:\n",
    "                    carrito.append({'nombre': compra, 'precio': producto['precio'], 'cantidad': cantidad_deseada})\n",
    "                    producto['cantidad'] -= cantidad_deseada\n",
    "                    print(f\"Has agregado {cantidad_deseada} {compra}(s) al carrito.\")\n",
    "                else:\n",
    "                    print(f\"Lo sentimos, solo tenemos {producto['cantidad']} {compra}(s) disponibles.\")\n",
    "                break\n",
    "        else:\n",
    "            print(f\"El producto {compra} no está disponible en el inventario.\")\n",
    "    \n",
    "   \n",
    "    for item in carrito:\n",
    "        total_compra += item['precio'] * item['cantidad']\n",
    "    \n",
    "    \n",
    "    print(\"\\nResumen de tu compra:\")\n",
    "    for item in carrito:\n",
    "        print(f\"{item['cantidad']} x {item['nombre']} = ${item['precio'] * item['cantidad']}\")\n",
    "    \n",
    "    print(f\"El total de tu compra es: ${total_compra}\")\n",
    "\n",
    "\n",
    "realizar_compra()\n"
   ]
  },
  {
   "cell_type": "markdown",
   "metadata": {},
   "source": [
    "Ejercicio 8: `procesar_pago()`: Procesa el pago de una compra, calcula el cambio y muestra un mensaje de confirmación.\n",
    " - Utiliza un bloque `try...except` para manejar excepciones.\n",
    " - Solicita al cliente ingresar la cantidad total y la cantidad de pago usando un input.\n",
    " - Calcula el cambio y muestra un mensaje de pago exitoso o un error en caso de monto insuficiente."
   ]
  },
  {
   "cell_type": "code",
   "execution_count": 20,
   "metadata": {},
   "outputs": [],
   "source": [
    "def procesar_pago():\n",
    "    try: \n",
    "        compra=float(input('El total de su compra es:'))\n",
    "        pago=float(input('Introduce la cantidad que vas a pagar'))\n",
    "        if pago>= compra:\n",
    "            cambio= pago-compra\n",
    "            print(f' El pago ha sido exitoso, su cambio es:{cambio}')\n",
    "        else: \n",
    "            print(f\"Error: el pago es insuficiente. Faltan {compra - pago}\")\n",
    "    except ValueError:\n",
    "        print('Error: Por favor, ingrese un número válido.')"
   ]
  },
  {
   "cell_type": "code",
   "execution_count": 21,
   "metadata": {},
   "outputs": [
    {
     "name": "stdout",
     "output_type": "stream",
     "text": [
      "Error: el pago es insuficiente. Faltan 1.0\n"
     ]
    }
   ],
   "source": [
    "procesar_pago()"
   ]
  },
  {
   "cell_type": "markdown",
   "metadata": {},
   "source": [
    "9. `agregar_cliente(nombre, email)`: Agrega un nuevo cliente al registro de clientes. Debe recibir el nombre y el correo electrónico del cliente como parámetros.\n",
    " - Agrega un cliente al diccionario de clientes con su nombre y correo\n",
    "electrónico.\n"
   ]
  },
  {
   "cell_type": "code",
   "execution_count": 4,
   "metadata": {},
   "outputs": [],
   "source": [
    "clientes= []\n",
    "\n",
    "def agregar_cliente(nombre, email):\n",
    "        nuevo_cliente={'nombre':'Lucia', 'email':'lucia@gmail.com'}\n",
    "        clientes.append(nuevo_cliente)\n"
   ]
  },
  {
   "cell_type": "code",
   "execution_count": 5,
   "metadata": {},
   "outputs": [],
   "source": [
    "agregar_cliente('lucia','lucia@gmail.com')"
   ]
  },
  {
   "cell_type": "code",
   "execution_count": 6,
   "metadata": {},
   "outputs": [
    {
     "data": {
      "text/plain": [
       "[{'nombre': 'Lucia', 'email': 'lucia@gmail.com'}]"
      ]
     },
     "execution_count": 6,
     "metadata": {},
     "output_type": "execute_result"
    }
   ],
   "source": [
    "clientes "
   ]
  },
  {
   "cell_type": "markdown",
   "metadata": {},
   "source": [
    "10. `ver_clientes()`: Muestra la lista de clientes registrados con sus\n",
    "nombres y correos electrónicos.\n",
    " - Utiliza un bucle `for` para recorrer la base de datos de clientes.\n",
    " - Imprime los detalles de cada cliente (nombre y correo electrónico).\n"
   ]
  },
  {
   "cell_type": "code",
   "execution_count": 9,
   "metadata": {},
   "outputs": [],
   "source": [
    "clientes=[{'nombre': 'Lucia', 'email':'lucia@gmail.com'},{'nombre': 'Maria','email':'maria@gamil.com'},{'nombre':'pepe','email':'pepe@gmail.com'}]\n",
    "def ver_clientes():\n",
    "    for cliente in clientes:\n",
    "        print('Los detalles del cliente son',cliente)"
   ]
  },
  {
   "cell_type": "code",
   "execution_count": 10,
   "metadata": {},
   "outputs": [
    {
     "name": "stdout",
     "output_type": "stream",
     "text": [
      "Los detalles del cliente son {'nombre': 'Lucia', 'email': 'lucia@gmail.com'}\n",
      "Los detalles del cliente son {'nombre': 'Maria', 'email': 'maria@gamil.com'}\n",
      "Los detalles del cliente son {'nombre': 'pepe', 'email': 'pepe@gmail.com'}\n"
     ]
    }
   ],
   "source": [
    "ver_clientes()"
   ]
  },
  {
   "cell_type": "markdown",
   "metadata": {},
   "source": [
    "11. `registrar_compra(nombre_cliente, carrito)`: Registra una compra para un cliente, actualiza las ventas totales y agrega la compra al historial del\n",
    "cliente. Debe recibir el nombre del cliente y el carrito de compras como parámetros.\n",
    " - Busca al cliente en el diccionario de clientes.\n",
    " - Si el cliente no esta en el diccionario de clientes, muestra que no\n",
    "se puede realizar la acción por que el cliente no está en el diccionario. \n",
    " - Calcula el total de la compra y registra la compra, incluyendo los\n",
    "productos y el total.\n",
    " - Ejemplo:\n",
    " ```python\n",
    " carrito_cliente1 = {\"Camisa\": {\"precio\": 20, \"cantidad\": 3}}\n",
    " tienda.registrar_compra(\"Cliente1\", carrito_cliente1)"
   ]
  },
  {
   "cell_type": "code",
   "execution_count": null,
   "metadata": {},
   "outputs": [],
   "source": []
  },
  {
   "cell_type": "markdown",
   "metadata": {},
   "source": [
    "13. `calcular_ventas_totales()`: Muestra las ventas totales de la tienda.\n",
    " - Suma los totales de todas las compras realizadas y muestra el total\n",
    "de ventas totales en la tienda.\n"
   ]
  },
  {
   "cell_type": "code",
   "execution_count": 11,
   "metadata": {},
   "outputs": [],
   "source": [
    "compras = [5, 2, 10, 9, 6] \n",
    "\n",
    "def calcular_ventas_totales():\n",
    "    total_ventas = sum(compras)  \n",
    "    print('Las ventas totales son:', total_ventas)\n",
    "\n"
   ]
  },
  {
   "cell_type": "code",
   "execution_count": 12,
   "metadata": {},
   "outputs": [
    {
     "name": "stdout",
     "output_type": "stream",
     "text": [
      "Las ventas totales son: 32\n"
     ]
    }
   ],
   "source": [
    "calcular_ventas_totales()"
   ]
  }
 ],
 "metadata": {
  "kernelspec": {
   "display_name": "Python 3",
   "language": "python",
   "name": "python3"
  },
  "language_info": {
   "codemirror_mode": {
    "name": "ipython",
    "version": 3
   },
   "file_extension": ".py",
   "mimetype": "text/x-python",
   "name": "python",
   "nbconvert_exporter": "python",
   "pygments_lexer": "ipython3",
   "version": "3.12.6"
  }
 },
 "nbformat": 4,
 "nbformat_minor": 2
}
